{
 "cells": [
  {
   "cell_type": "markdown",
   "id": "cfc0ded0-8ad2-4c5f-8d40-c5ae015d3e7c",
   "metadata": {},
   "source": [
    "## Problem Statement 1:\n",
    "\n",
    "You are given a Python dictionary where:\n",
    "\n",
    " - Each key is a string.\n",
    "\n",
    " - Each value is an integer.\n",
    " - input_= input_={\"a\":1,\"e\":1,\"b\":1,\"c\":3,\"h\":2, \"g\":4, \"d\":3, \"f\":4}\n",
    "\n",
    "\n",
    "\n",
    "Your task is to restructure this dictionary such that:\n",
    "\n",
    " - Each key in the output dictionary is the string form of an integer from the original values.\n",
    "\n",
    " - Each value in the output dictionary is a list of original keys from the input dictionary that had that integer as their value.\n",
    " - Output_ = {'1': ['a', 'e', 'b'], '3': ['c', 'd'], '2': ['h'], '4': ['g', 'f']}\r\n",
    "\n"
   ]
  },
  {
   "cell_type": "code",
   "execution_count": 35,
   "id": "38073f84-12b8-4d88-b08e-ba30fc5c4c2c",
   "metadata": {},
   "outputs": [
    {
     "name": "stdout",
     "output_type": "stream",
     "text": [
      "{'1': ['a']}\n",
      "{'1': ['a', 'e']}\n",
      "{'1': ['a', 'e', 'b'], '3': ['c'], '2': ['h'], '4': ['g']}\n",
      "{'1': ['a', 'e', 'b'], '3': ['c', 'd'], '2': ['h'], '4': ['g']}\n"
     ]
    }
   ],
   "source": [
    "input ={\"a\":1,\"e\":1,\"b\":1,\"c\":3,\"h\":2, \"g\":4, \"d\":3, \"f\":4}\n",
    "output = {}\n",
    "\n",
    "\n",
    "for k, v in input.items():\n",
    "    if str(v) not in output:\n",
    "        output[str(v)] = [k]\n",
    "        #print(output)\n",
    "    else :\n",
    "        print(output)\n",
    "        output[str(v)].append(k)\n"
   ]
  },
  {
   "cell_type": "code",
   "execution_count": 36,
   "id": "3049e2bf-f6d8-428b-b43c-a8456dd1a6f3",
   "metadata": {},
   "outputs": [
    {
     "data": {
      "text/plain": [
       "{'1': ['a', 'e', 'b'], '3': ['c', 'd'], '2': ['h'], '4': ['g', 'f']}"
      ]
     },
     "execution_count": 36,
     "metadata": {},
     "output_type": "execute_result"
    }
   ],
   "source": [
    "output"
   ]
  },
  {
   "cell_type": "markdown",
   "id": "e9b72f93-4094-4d4f-a611-223527c585ea",
   "metadata": {},
   "source": [
    "- a) Sort the outer dictionary by keys (which are strings of numbers).\n",
    "\n"
   ]
  },
  {
   "cell_type": "code",
   "execution_count": 85,
   "id": "051f74ef-1288-45fd-8c02-889a0f071c3e",
   "metadata": {},
   "outputs": [
    {
     "data": {
      "text/plain": [
       "{'1': ['a', 'e', 'b'], '2': ['h'], '3': ['c', 'd'], '4': ['g', 'f']}"
      ]
     },
     "execution_count": 85,
     "metadata": {},
     "output_type": "execute_result"
    }
   ],
   "source": [
    "output1 = (dict(sorted(output.items())))\n",
    "output1"
   ]
  },
  {
   "cell_type": "markdown",
   "id": "1f9822c0-ff5d-403e-a2db-e1fd2f9308a3",
   "metadata": {},
   "source": [
    "b) reversed order"
   ]
  },
  {
   "cell_type": "code",
   "execution_count": 88,
   "id": "75f8ba78-bc24-4fd8-b629-56f7ca1713fa",
   "metadata": {},
   "outputs": [
    {
     "data": {
      "text/plain": [
       "{'4': ['g', 'f'], '3': ['c', 'd'], '2': ['h'], '1': ['a', 'e', 'b']}"
      ]
     },
     "execution_count": 88,
     "metadata": {},
     "output_type": "execute_result"
    }
   ],
   "source": [
    "dict(sorted(output.items())[::-1])"
   ]
  },
  {
   "cell_type": "markdown",
   "id": "e20ad1e6-6b9d-44ec-b5bf-b248884627f6",
   "metadata": {},
   "source": [
    "- c) Sort the values (the lists) alphabetically.\n"
   ]
  },
  {
   "cell_type": "code",
   "execution_count": 89,
   "id": "8ca8bac6-fbea-45d3-ba02-2476cc136966",
   "metadata": {},
   "outputs": [],
   "source": [
    "for k, v in output1.items():\n",
    "    output1[k] = sorted(v)"
   ]
  },
  {
   "cell_type": "code",
   "execution_count": 90,
   "id": "4ba0f65e-d6b1-4510-8322-4c5d371da4ec",
   "metadata": {},
   "outputs": [
    {
     "data": {
      "text/plain": [
       "{'1': ['a', 'e', 'b'], '3': ['c', 'd'], '2': ['h'], '4': ['g', 'f']}"
      ]
     },
     "execution_count": 90,
     "metadata": {},
     "output_type": "execute_result"
    }
   ],
   "source": [
    "output"
   ]
  },
  {
   "cell_type": "markdown",
   "id": "213e9676-1e18-4fe4-8850-ebfd2480545f",
   "metadata": {},
   "source": [
    "d) \n",
    "- Each element from the value lists becomes a key in the new dictionary.\n",
    "\n",
    "- Its corresponding value is the original dictionary's key."
   ]
  },
  {
   "cell_type": "code",
   "execution_count": 111,
   "id": "738d1fbf-3421-4cb9-a4f6-ff19bebb97ca",
   "metadata": {},
   "outputs": [
    {
     "data": {
      "text/plain": [
       "{'a': '1',\n",
       " 'e': '1',\n",
       " 'b': '1',\n",
       " 'c': '3',\n",
       " 'd': '3',\n",
       " 'h': '2',\n",
       " 'g': '4',\n",
       " 'f': '4'}"
      ]
     },
     "execution_count": 111,
     "metadata": {},
     "output_type": "execute_result"
    }
   ],
   "source": [
    "reverse_output = {}\n",
    "\n",
    "\n",
    "for k, v in output.items():\n",
    "    for l in v :\n",
    "        if l not in reverse_output :\n",
    "            reverse_output[l] = k\n",
    "reverse_output     "
   ]
  },
  {
   "cell_type": "code",
   "execution_count": 112,
   "id": "e96bebb7-54c3-4320-a4b5-da43143b0761",
   "metadata": {},
   "outputs": [
    {
     "data": {
      "text/plain": [
       "[('a', '1'),\n",
       " ('e', '1'),\n",
       " ('b', '1'),\n",
       " ('c', '3'),\n",
       " ('d', '3'),\n",
       " ('h', '2'),\n",
       " ('g', '4'),\n",
       " ('f', '4')]"
      ]
     },
     "execution_count": 112,
     "metadata": {},
     "output_type": "execute_result"
    }
   ],
   "source": [
    "[(char, k) for k, v in output.items() for char in v]"
   ]
  },
  {
   "cell_type": "code",
   "execution_count": 92,
   "id": "2a52e4d1-4666-4e58-af30-1ce61f05f6a8",
   "metadata": {},
   "outputs": [
    {
     "data": {
      "text/plain": [
       "[('a', '1'),\n",
       " ('e', '1'),\n",
       " ('b', '1'),\n",
       " ('c', '3'),\n",
       " ('d', '3'),\n",
       " ('h', '2'),\n",
       " ('g', '4'),\n",
       " ('f', '4')]"
      ]
     },
     "execution_count": 92,
     "metadata": {},
     "output_type": "execute_result"
    }
   ],
   "source": [
    "l1 = list(reverse_output.items())\n",
    "l1"
   ]
  },
  {
   "cell_type": "code",
   "execution_count": 93,
   "id": "02891e51-22c5-45c3-9a1e-7a7a78fdf7ac",
   "metadata": {},
   "outputs": [
    {
     "data": {
      "text/plain": [
       "{'a': '1',\n",
       " 'b': '1',\n",
       " 'c': '3',\n",
       " 'd': '3',\n",
       " 'e': '1',\n",
       " 'f': '4',\n",
       " 'g': '4',\n",
       " 'h': '2'}"
      ]
     },
     "execution_count": 93,
     "metadata": {},
     "output_type": "execute_result"
    }
   ],
   "source": [
    "dict(sorted(reverse_output.items()))"
   ]
  },
  {
   "cell_type": "markdown",
   "id": "b4143b84-af42-47d4-8ff5-7803e04e8f32",
   "metadata": {},
   "source": [
    "e) sort the dict based on values without lambda"
   ]
  },
  {
   "cell_type": "code",
   "execution_count": 61,
   "id": "687524c4-27b0-4169-bdd9-e2555ea99393",
   "metadata": {},
   "outputs": [
    {
     "data": {
      "text/plain": [
       "{'a': '1',\n",
       " 'e': '1',\n",
       " 'b': '1',\n",
       " 'h': '2',\n",
       " 'd': '3',\n",
       " 'c': '3',\n",
       " 'g': '4',\n",
       " 'f': '4'}"
      ]
     },
     "execution_count": 61,
     "metadata": {},
     "output_type": "execute_result"
    }
   ],
   "source": [
    "for i in range(len(l1)):\n",
    "    for j in range(i+1, len(l1)):\n",
    "        #print(i, j)\n",
    "        if l1[i][1] > l1[j][1] :\n",
    "            l1[i], l1[j] = l1[j], l1[i]\n",
    "dict(l1)"
   ]
  },
  {
   "cell_type": "code",
   "execution_count": 70,
   "id": "f060b6b7-f0fc-4c6e-8665-43500cb8b820",
   "metadata": {},
   "outputs": [
    {
     "data": {
      "text/plain": [
       "{'a': '1',\n",
       " 'e': '1',\n",
       " 'b': '1',\n",
       " 'c': '3',\n",
       " 'd': '3',\n",
       " 'h': '2',\n",
       " 'g': '4',\n",
       " 'f': '4'}"
      ]
     },
     "execution_count": 70,
     "metadata": {},
     "output_type": "execute_result"
    }
   ],
   "source": [
    "reverse_output"
   ]
  },
  {
   "cell_type": "markdown",
   "id": "d95684f9-8a1d-4ef5-8a88-9ccbfb9761f4",
   "metadata": {},
   "source": [
    "f) sort the dict based on values with lambda"
   ]
  },
  {
   "cell_type": "code",
   "execution_count": 72,
   "id": "9bec2a62-43b0-4942-b0f0-264c2ae84d20",
   "metadata": {},
   "outputs": [
    {
     "data": {
      "text/plain": [
       "{'a': '1',\n",
       " 'b': '1',\n",
       " 'c': '3',\n",
       " 'd': '3',\n",
       " 'e': '1',\n",
       " 'f': '4',\n",
       " 'g': '4',\n",
       " 'h': '2'}"
      ]
     },
     "execution_count": 72,
     "metadata": {},
     "output_type": "execute_result"
    }
   ],
   "source": [
    "dict(sorted(reverse_output.items(), key = lambda i:i[0]))"
   ]
  },
  {
   "cell_type": "code",
   "execution_count": 77,
   "id": "7cd2d6bc-27ab-4efb-a3db-2c0ef3597307",
   "metadata": {},
   "outputs": [
    {
     "data": {
      "text/plain": [
       "[('1', ['a', 'e', 'b']), ('3', ['c', 'd']), ('2', ['h']), ('4', ['g', 'f'])]"
      ]
     },
     "execution_count": 77,
     "metadata": {},
     "output_type": "execute_result"
    }
   ],
   "source": [
    "t1 = list(output.items())\n",
    "t1"
   ]
  },
  {
   "cell_type": "markdown",
   "id": "d67003ea-30d1-4187-a749-2c8a396114d8",
   "metadata": {},
   "source": [
    "g) sort the dict based on the keys without sorted or lambda"
   ]
  },
  {
   "cell_type": "code",
   "execution_count": 95,
   "id": "05bc1e10-a96f-4250-93b6-7859967f1fee",
   "metadata": {},
   "outputs": [
    {
     "data": {
      "text/plain": [
       "{'1': ['a', 'e', 'b'], '2': ['h'], '3': ['c', 'd'], '4': ['g', 'f']}"
      ]
     },
     "execution_count": 95,
     "metadata": {},
     "output_type": "execute_result"
    }
   ],
   "source": [
    "for i in range(len(t1)):\n",
    "    for j in range(i+1, len(t1)):\n",
    "        if t1[i] > t1[j] :\n",
    "            t1[i], t1[j] = t1[j], t1[i]\n",
    "\n",
    "dict(t1)"
   ]
  },
  {
   "cell_type": "code",
   "execution_count": 97,
   "id": "77acaae7-3de5-403f-936a-988675892017",
   "metadata": {},
   "outputs": [
    {
     "data": {
      "text/plain": [
       "{'1': ['a', 'e', 'b'], '3': ['c', 'd'], '2': ['h'], '4': ['g', 'f']}"
      ]
     },
     "execution_count": 97,
     "metadata": {},
     "output_type": "execute_result"
    }
   ],
   "source": [
    "output"
   ]
  },
  {
   "cell_type": "markdown",
   "id": "23d9dc23-3c89-4a64-a0e1-363745410aab",
   "metadata": {},
   "source": [
    "h) lenght of values"
   ]
  },
  {
   "cell_type": "code",
   "execution_count": 100,
   "id": "872d606f-d91f-4ad6-9b9c-563285a8495c",
   "metadata": {},
   "outputs": [
    {
     "data": {
      "text/plain": [
       "{'1': 3, '3': 2, '2': 1, '4': 2}"
      ]
     },
     "execution_count": 100,
     "metadata": {},
     "output_type": "execute_result"
    }
   ],
   "source": [
    "d3 = {}\n",
    "\n",
    "for k, v in output.items():\n",
    "    d3[k] = len(v)\n",
    "\n",
    "d3"
   ]
  },
  {
   "cell_type": "code",
   "execution_count": 103,
   "id": "04343dc4-93bc-4267-a308-27e7467b61fb",
   "metadata": {},
   "outputs": [
    {
     "data": {
      "text/plain": [
       "[('1', 3), ('3', 2), ('2', 1), ('4', 2)]"
      ]
     },
     "execution_count": 103,
     "metadata": {},
     "output_type": "execute_result"
    }
   ],
   "source": [
    "t2 = list(d3.items())\n",
    "t2"
   ]
  },
  {
   "cell_type": "markdown",
   "id": "9c5863f8-087e-4b51-9b87-43b1910cd404",
   "metadata": {},
   "source": [
    "i) sort by values"
   ]
  },
  {
   "cell_type": "code",
   "execution_count": 106,
   "id": "ac343ad7-3ef8-4a97-820f-b9d5a38e0ee0",
   "metadata": {},
   "outputs": [
    {
     "name": "stdout",
     "output_type": "stream",
     "text": [
      "0 1\n",
      "0 2\n",
      "0 3\n",
      "1 2\n",
      "1 3\n",
      "2 3\n"
     ]
    },
    {
     "data": {
      "text/plain": [
       "{'2': 1, '3': 2, '4': 2, '1': 3}"
      ]
     },
     "execution_count": 106,
     "metadata": {},
     "output_type": "execute_result"
    }
   ],
   "source": [
    "for i in range(len(t2)):\n",
    "    for j in range(i+1, len(t2)):\n",
    "        print(i, j)\n",
    "        if t2[i][1] > t2[j][1] :\n",
    "            t2[i], t2[j] = t2[j], t2[i]\n",
    "dict(t2)\n",
    "            "
   ]
  },
  {
   "cell_type": "markdown",
   "id": "5ff5e8d8-afda-42e2-a9a4-9c2af15f9abb",
   "metadata": {},
   "source": [
    "j) sort by keys"
   ]
  },
  {
   "cell_type": "code",
   "execution_count": 107,
   "id": "5d19f21f-dcaa-47ba-9294-9ffc20408721",
   "metadata": {},
   "outputs": [
    {
     "name": "stdout",
     "output_type": "stream",
     "text": [
      "0 1\n",
      "0 2\n",
      "0 3\n",
      "1 2\n",
      "1 3\n",
      "2 3\n"
     ]
    },
    {
     "data": {
      "text/plain": [
       "{'1': 3, '2': 1, '3': 2, '4': 2}"
      ]
     },
     "execution_count": 107,
     "metadata": {},
     "output_type": "execute_result"
    }
   ],
   "source": [
    "for i in range(len(t2)):\n",
    "    for j in range(i+1, len(t2)):\n",
    "        print(i, j)\n",
    "        if t2[i][0] > t2[j][0] :\n",
    "            t2[i], t2[j] = t2[j], t2[i]\n",
    "dict(t2)\n",
    "            "
   ]
  },
  {
   "cell_type": "markdown",
   "id": "b3205f3f-cb1b-4a9f-b258-77bba3795321",
   "metadata": {},
   "source": [
    "k) Group keys by length of value list\n"
   ]
  },
  {
   "cell_type": "code",
   "execution_count": 114,
   "id": "ab36a259-4be2-4706-ac97-cb0c7bc3df44",
   "metadata": {},
   "outputs": [
    {
     "data": {
      "text/plain": [
       "{'1': ['a', 'e', 'b'], '3': ['c', 'd'], '2': ['h'], '4': ['g', 'f']}"
      ]
     },
     "execution_count": 114,
     "metadata": {},
     "output_type": "execute_result"
    }
   ],
   "source": [
    "output"
   ]
  },
  {
   "cell_type": "code",
   "execution_count": 118,
   "id": "11b66545-5bd9-4a44-8430-568c7b7db16a",
   "metadata": {},
   "outputs": [
    {
     "data": {
      "text/plain": [
       "{3: ['1'], 2: ['3', '4'], 1: ['2']}"
      ]
     },
     "execution_count": 118,
     "metadata": {},
     "output_type": "execute_result"
    }
   ],
   "source": [
    "t3 = {}\n",
    "for k, v in output.items():\n",
    "    le = len(v)\n",
    "    if le not in t3 :\n",
    "        t3[le] = [k]\n",
    "    else :\n",
    "        t3[le].append(k)\n",
    "t3"
   ]
  },
  {
   "cell_type": "markdown",
   "id": "d6be9179-cc98-41e8-ac67-9798f06a78b4",
   "metadata": {},
   "source": [
    "l) Count total unique letters used"
   ]
  },
  {
   "cell_type": "code",
   "execution_count": 120,
   "id": "7ea539f6-3eb9-4193-b70d-ffc516b2b1b8",
   "metadata": {},
   "outputs": [],
   "source": [
    "s = set()\n",
    "for value in output.values():\n",
    "    s.update(value)"
   ]
  },
  {
   "cell_type": "code",
   "execution_count": 121,
   "id": "868d5ca1-2bf2-4c78-8eda-2de13d64bbf8",
   "metadata": {},
   "outputs": [
    {
     "data": {
      "text/plain": [
       "{'a', 'b', 'c', 'd', 'e', 'f', 'g', 'h'}"
      ]
     },
     "execution_count": 121,
     "metadata": {},
     "output_type": "execute_result"
    }
   ],
   "source": [
    "s"
   ]
  },
  {
   "cell_type": "code",
   "execution_count": 125,
   "id": "a6692d1c-b821-4d83-93cf-597d204ef187",
   "metadata": {},
   "outputs": [
    {
     "data": {
      "text/plain": [
       "['a', 'e', 'b', 'c', 'd', 'h', 'g', 'f']"
      ]
     },
     "execution_count": 125,
     "metadata": {},
     "output_type": "execute_result"
    }
   ],
   "source": [
    "s = []\n",
    "for value in output.values():\n",
    "    for v in value :\n",
    "        if v not in s :\n",
    "            s.append(v)\n",
    "s"
   ]
  },
  {
   "cell_type": "markdown",
   "id": "5d54dcf0-b09c-4dba-89b2-fce6d06b5d5b",
   "metadata": {},
   "source": [
    "k) Key with max number of values"
   ]
  },
  {
   "cell_type": "code",
   "execution_count": 126,
   "id": "918e6fcf-71f5-4eb3-8193-2e337087232c",
   "metadata": {},
   "outputs": [
    {
     "data": {
      "text/plain": [
       "{'1': ['a', 'e', 'b'], '3': ['c', 'd'], '2': ['h'], '4': ['g', 'f']}"
      ]
     },
     "execution_count": 126,
     "metadata": {},
     "output_type": "execute_result"
    }
   ],
   "source": [
    "output"
   ]
  },
  {
   "cell_type": "code",
   "execution_count": 130,
   "id": "1a29b063-41e8-4447-adb2-dfcd2b132fa8",
   "metadata": {},
   "outputs": [
    {
     "data": {
      "text/plain": [
       "(3, '1')"
      ]
     },
     "execution_count": 130,
     "metadata": {},
     "output_type": "execute_result"
    }
   ],
   "source": [
    "max_num = 0\n",
    "key = 0\n",
    "\n",
    "for k, v in output.items():\n",
    "    l = len(v)\n",
    "    if l > max_num :\n",
    "        max_num = l \n",
    "        key = k\n",
    "max_num, key"
   ]
  },
  {
   "cell_type": "markdown",
   "id": "57a3a0a6-2889-474d-9374-d1521da91ec6",
   "metadata": {},
   "source": [
    "l) Find keys whose list contains a specific letter"
   ]
  },
  {
   "cell_type": "code",
   "execution_count": 132,
   "id": "9a8659e5-4a53-4a20-8da4-c6bc4aed36fa",
   "metadata": {},
   "outputs": [
    {
     "name": "stdout",
     "output_type": "stream",
     "text": [
      "1 ['a', 'e', 'b']\n"
     ]
    }
   ],
   "source": [
    "target = 'b'\n",
    "\n",
    "for k , v in output.items():\n",
    "    if target in v :\n",
    "        print(k, v)"
   ]
  },
  {
   "cell_type": "markdown",
   "id": "217927a3-1586-46d9-82fc-d443c99b06d8",
   "metadata": {},
   "source": [
    "m) All values in one sorted string"
   ]
  },
  {
   "cell_type": "code",
   "execution_count": 136,
   "id": "f92296ff-1dc9-4095-be20-1ceacbd0857d",
   "metadata": {},
   "outputs": [
    {
     "data": {
      "text/plain": [
       "['a', 'e', 'b', 'c', 'd', 'h', 'g', 'f']"
      ]
     },
     "execution_count": 136,
     "metadata": {},
     "output_type": "execute_result"
    }
   ],
   "source": [
    "l5 = []\n",
    "\n",
    "for k , v in output.items():\n",
    "    l5.extend(v)\n",
    "l5"
   ]
  },
  {
   "cell_type": "code",
   "execution_count": 138,
   "id": "4109d091-a4c0-4090-aa53-1b0e4a275bca",
   "metadata": {},
   "outputs": [
    {
     "data": {
      "text/plain": [
       "'abcdefgh'"
      ]
     },
     "execution_count": 138,
     "metadata": {},
     "output_type": "execute_result"
    }
   ],
   "source": [
    "\"\".join(sorted(l5))"
   ]
  },
  {
   "cell_type": "markdown",
   "id": "83764008-3039-47ae-8803-6b164c242ed4",
   "metadata": {},
   "source": [
    "n) Find values that contain only vowels\n",
    "\n"
   ]
  },
  {
   "cell_type": "code",
   "execution_count": 152,
   "id": "36aa9c04-961d-4a52-8dcc-b2cb0ac6209f",
   "metadata": {},
   "outputs": [
    {
     "data": {
      "text/plain": [
       "{'1': ['a', 'e', 'b'],\n",
       " '3': ['c', 'd'],\n",
       " '2': ['h'],\n",
       " '4': ['g', 'f'],\n",
       " 5: ['a', 'e']}"
      ]
     },
     "execution_count": 152,
     "metadata": {},
     "output_type": "execute_result"
    }
   ],
   "source": [
    "output[5] = ['a', 'e']\n",
    "output"
   ]
  },
  {
   "cell_type": "code",
   "execution_count": 153,
   "id": "8114b71d-8434-4bad-ba4b-5ade443be078",
   "metadata": {},
   "outputs": [
    {
     "name": "stdout",
     "output_type": "stream",
     "text": [
      "5 ['a', 'e']\n"
     ]
    }
   ],
   "source": [
    "vowel = {'a', 'e', 'i', 'o', 'u'}\n",
    "s1 = []\n",
    "\n",
    "for k, v in output.items():\n",
    "    only_v = True\n",
    "    for i in v :\n",
    "        if i not in vowel :\n",
    "            only_v = False \n",
    "            break\n",
    "    if only_v :\n",
    "        print(k, v)\n",
    "            "
   ]
  },
  {
   "cell_type": "code",
   "execution_count": 154,
   "id": "c00eef28-a968-435a-bc78-1c2e4e427745",
   "metadata": {},
   "outputs": [
    {
     "data": {
      "text/plain": [
       "[]"
      ]
     },
     "execution_count": 154,
     "metadata": {},
     "output_type": "execute_result"
    }
   ],
   "source": [
    "s1"
   ]
  },
  {
   "cell_type": "code",
   "execution_count": 169,
   "id": "9e1e3d81-bde5-435f-b637-5b1b6edafc6a",
   "metadata": {},
   "outputs": [
    {
     "name": "stdout",
     "output_type": "stream",
     "text": [
      "1\n",
      "1\n",
      "5\n",
      "5\n"
     ]
    }
   ],
   "source": [
    "vowel = {'a', 'e', 'i', 'o', 'u'}\n",
    "s11 = set()\n",
    "\n",
    "for k, v in output.items():\n",
    "    for i in v :\n",
    "        if i  in vowel :\n",
    "            print(k)\n",
    "            s11.update(str(k))\n",
    "\n",
    "\n",
    "            "
   ]
  },
  {
   "cell_type": "code",
   "execution_count": 170,
   "id": "309d5a69-65a9-463a-bbfd-7aac4866e80c",
   "metadata": {},
   "outputs": [
    {
     "data": {
      "text/plain": [
       "{'1', '5'}"
      ]
     },
     "execution_count": 170,
     "metadata": {},
     "output_type": "execute_result"
    }
   ],
   "source": [
    "s11"
   ]
  },
  {
   "cell_type": "code",
   "execution_count": null,
   "id": "2947d774-e474-4d40-93cf-26113f3be2c5",
   "metadata": {},
   "outputs": [],
   "source": []
  }
 ],
 "metadata": {
  "kernelspec": {
   "display_name": "Python 3 (ipykernel)",
   "language": "python",
   "name": "python3"
  },
  "language_info": {
   "codemirror_mode": {
    "name": "ipython",
    "version": 3
   },
   "file_extension": ".py",
   "mimetype": "text/x-python",
   "name": "python",
   "nbconvert_exporter": "python",
   "pygments_lexer": "ipython3",
   "version": "3.11.7"
  }
 },
 "nbformat": 4,
 "nbformat_minor": 5
}
